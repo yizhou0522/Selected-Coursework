{
 "cells": [
  {
   "cell_type": "code",
   "execution_count": null,
   "metadata": {},
   "outputs": [],
   "source": [
    "import numpy as np\n",
    "import matplotlib.pyplot as plt "
   ]
  },
  {
   "cell_type": "markdown",
   "metadata": {},
   "source": [
    "#### 1a) "
   ]
  },
  {
   "cell_type": "code",
   "execution_count": null,
   "metadata": {},
   "outputs": [],
   "source": [
    "# Circle topology\n",
    "# Unweighted adjacency matrix\n",
    "\n",
    "# Option 1: Manually enter the entries\n",
    "Atilde = np.array(\n",
    "         [[0,1,0,0,0,0,0,1],\n",
    "          [1,0,1,0,0,0,0,0],\n",
    "          [1,1,0,1,1,0,0,0],\n",
    "          [0,0,1,0,1,0,0,0],\n",
    "          [0,0,0,1,0,1,0,0],\n",
    "          [0,0,0,0,1,0,1,0],\n",
    "          [0,0,0,0,0,1,0,1],\n",
    "          [1,0,0,0,0,0,1,0]])\n",
    "\n",
    "# Option 2: or you can exploit the patterns\n",
    "# Atilde = np.zeros((8,8))\n",
    "# for i in range(8): # \n",
    "#     Atilde[i,(i+1)%8] = 1\n",
    "#     Atilde[i,(i-1)%8] = 1\n",
    "# Atilde[2,0] = 1\n",
    "# Atilde[2,4] = 1\n",
    "\n",
    "print('Unweighted adjacency matrix')\n",
    "print(Atilde)\n",
    "print(' ')"
   ]
  },
  {
   "cell_type": "markdown",
   "metadata": {},
   "source": [
    "#### 1b)"
   ]
  },
  {
   "cell_type": "code",
   "execution_count": null,
   "metadata": {},
   "outputs": [],
   "source": [
    "# Find weighted adjacency matrix\n",
    "# option 1: normalize columns with a for loop\n",
    "A = np.zeros((8,8), dtype=float)\n",
    "for k in range(8):\n",
    "    norm = np.sum(Atilde[:,k])\n",
    "    A[:,k] = ?\n",
    "    \n",
    "# option 2: normalize using numpy.sum() and broadcasting, in a single line\n",
    "# A = ???\n",
    "\n",
    "print('Weighted adjacency matrix')\n",
    "print(A)"
   ]
  },
  {
   "cell_type": "markdown",
   "metadata": {},
   "source": [
    "#### 1c) and 1d)"
   ]
  },
  {
   "cell_type": "code",
   "execution_count": null,
   "metadata": {},
   "outputs": [],
   "source": [
    "# Power method\n",
    "\n",
    "b0 = 0.125*np.ones((8,1))\n",
    "print('b0 = ', b0)\n",
    "print(' ')\n",
    "\n",
    "b1 = ?\n",
    "print('b1 = ', b1)\n",
    "print(' ')\n",
    "\n",
    "b = b0.copy()\n",
    "for k in range(1000):\n",
    "    b = ?\n",
    "    \n",
    "print('1000 iterations')\n",
    "print('b = ',b)\n"
   ]
  },
  {
   "cell_type": "markdown",
   "metadata": {},
   "source": [
    "#### 1e) Explination goes here."
   ]
  },
  {
   "cell_type": "markdown",
   "metadata": {},
   "source": [
    "#### 2a)"
   ]
  },
  {
   "cell_type": "code",
   "execution_count": null,
   "metadata": {},
   "outputs": [],
   "source": [
    "# Hub topology\n",
    "\n",
    "Atildehub = ?\n",
    "\n",
    "print('Unweighted adjacency matrix')\n",
    "print(Atildehub)\n",
    "print(' ')"
   ]
  },
  {
   "cell_type": "markdown",
   "metadata": {},
   "source": [
    "#### 2b)"
   ]
  },
  {
   "cell_type": "code",
   "execution_count": null,
   "metadata": {},
   "outputs": [],
   "source": [
    "\n",
    "# find weighted adjacency matrix\n",
    "\n",
    "Ahub = ???    \n",
    "\n",
    "print('Weighted adjacency matrix')\n",
    "print(Ahub)"
   ]
  },
  {
   "cell_type": "markdown",
   "metadata": {},
   "source": [
    "#### 2c) and 2d)"
   ]
  },
  {
   "cell_type": "code",
   "execution_count": null,
   "metadata": {},
   "outputs": [],
   "source": [
    "b0 = (1/9)*np.ones((9,1))\n",
    "print('b0 = ', b0)\n",
    "print(' ')\n",
    "\n",
    "bhub1 = ?\n",
    "print('bhub1 = ', bhub1)\n",
    "print(' ')\n",
    "\n",
    "bhub = b0.copy()\n",
    "for k in range(1000):\n",
    "    bhub = ?\n",
    "    \n",
    "print('1000 iterations')\n",
    "print('bhub = ', bhub)\n",
    "print(' ')\n",
    "\n",
    "bhubr = b0.copy()\n",
    "for k in range(100):\n",
    "    bhubr = ?\n",
    "    \n",
    "print('100 iterations')\n",
    "print('bhubr = ',bhubr)"
   ]
  },
  {
   "cell_type": "markdown",
   "metadata": {},
   "source": [
    "#### Complete 2e and 2f below."
   ]
  }
 ],
 "metadata": {
  "kernelspec": {
   "display_name": "Python 3",
   "language": "python",
   "name": "python3"
  },
  "language_info": {
   "codemirror_mode": {
    "name": "ipython",
    "version": 3
   },
   "file_extension": ".py",
   "mimetype": "text/x-python",
   "name": "python",
   "nbconvert_exporter": "python",
   "pygments_lexer": "ipython3",
   "version": "3.8.2"
  }
 },
 "nbformat": 4,
 "nbformat_minor": 2
}
