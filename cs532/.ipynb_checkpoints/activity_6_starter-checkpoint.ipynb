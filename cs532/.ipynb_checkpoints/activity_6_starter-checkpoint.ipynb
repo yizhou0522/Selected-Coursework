{
 "cells": [
  {
   "cell_type": "code",
   "execution_count": 1,
   "metadata": {},
   "outputs": [],
   "source": [
    "import numpy as np\n",
    "A = np.array([[25,0,1],[20,1,2],[40,1,6]])\n",
    "b = np.array([[110],[110],[210]])\n",
    "\n",
    "# To see rank, use: \n",
    "# np.linalg.matrix_rank(A)\n",
    "\n",
    "# To invert a matrix, use:\n",
    "# np.linalg.inv(A)\n",
    "\n",
    "# To multiply matrices in Python 3, use:\n",
    "# A@B"
   ]
  },
  {
   "cell_type": "code",
   "execution_count": 3,
   "metadata": {},
   "outputs": [
    {
     "name": "stdout",
     "output_type": "stream",
     "text": [
      "4\n"
     ]
    },
    {
     "ename": "AttributeError",
     "evalue": "'numpy.ndarray' object has no attribute 'rank'",
     "output_type": "error",
     "traceback": [
      "\u001b[1;31m---------------------------------------------------------------------------\u001b[0m",
      "\u001b[1;31mAttributeError\u001b[0m                            Traceback (most recent call last)",
      "\u001b[1;32m<ipython-input-3-fe6ed2f92cfc>\u001b[0m in \u001b[0;36m<module>\u001b[1;34m\u001b[0m\n\u001b[0;32m      7\u001b[0m \u001b[0mNoC\u001b[0m \u001b[1;33m=\u001b[0m \u001b[0mA\u001b[0m\u001b[1;33m.\u001b[0m\u001b[0mshape\u001b[0m\u001b[1;33m[\u001b[0m\u001b[1;36m1\u001b[0m\u001b[1;33m]\u001b[0m\u001b[1;33m\u001b[0m\u001b[1;33m\u001b[0m\u001b[0m\n\u001b[0;32m      8\u001b[0m \u001b[1;33m\u001b[0m\u001b[0m\n\u001b[1;32m----> 9\u001b[1;33m \u001b[0mrank\u001b[0m \u001b[1;33m=\u001b[0m \u001b[0mA\u001b[0m\u001b[1;33m.\u001b[0m\u001b[0mrank\u001b[0m\u001b[1;33m(\u001b[0m\u001b[1;33m)\u001b[0m\u001b[1;33m\u001b[0m\u001b[1;33m\u001b[0m\u001b[0m\n\u001b[0m\u001b[0;32m     10\u001b[0m \u001b[0mnullity\u001b[0m \u001b[1;33m=\u001b[0m \u001b[0mNoC\u001b[0m \u001b[1;33m-\u001b[0m \u001b[0mrank\u001b[0m\u001b[1;33m\u001b[0m\u001b[1;33m\u001b[0m\u001b[0m\n\u001b[0;32m     11\u001b[0m \u001b[0mprint\u001b[0m\u001b[1;33m(\u001b[0m\u001b[1;34m\"Nullity : \"\u001b[0m\u001b[1;33m,\u001b[0m \u001b[0mnullity\u001b[0m\u001b[1;33m)\u001b[0m\u001b[1;33m\u001b[0m\u001b[1;33m\u001b[0m\u001b[0m\n",
      "\u001b[1;31mAttributeError\u001b[0m: 'numpy.ndarray' object has no attribute 'rank'"
     ]
    }
   ],
   "source": [
    "import numpy as np\n",
    "A = np.array([[25,15,10,0,1],[20,12,8,1,2],[40,30,10,1,6], [30,15,15,0,3], [35,20,15,2,4]])\n",
    "b = np.array([[104],[97],[193],[132],[174]])\n",
    "\n",
    "print(np.linalg.matrix_rank(A))\n",
    "\n",
    "NoC = A.shape[1] \n",
    "\n",
    "rank = A.rank() \n",
    "nullity = NoC - rank \n",
    "print(\"Nullity : \", nullity) \n",
    "\n",
    "# Note: you can use np.hstack() to concatinate vectors, for example np.hstack((A,b))\n",
    "\n",
    "# Note: you can select all the columns, except the first of a matrix A as:  A[:,1:]"
   ]
  },
  {
   "cell_type": "code",
   "execution_count": null,
   "metadata": {},
   "outputs": [],
   "source": []
  }
 ],
 "metadata": {
  "kernelspec": {
   "display_name": "Python 3",
   "language": "python",
   "name": "python3"
  },
  "language_info": {
   "codemirror_mode": {
    "name": "ipython",
    "version": 3
   },
   "file_extension": ".py",
   "mimetype": "text/x-python",
   "name": "python",
   "nbconvert_exporter": "python",
   "pygments_lexer": "ipython3",
   "version": "3.8.2"
  }
 },
 "nbformat": 4,
 "nbformat_minor": 2
}
