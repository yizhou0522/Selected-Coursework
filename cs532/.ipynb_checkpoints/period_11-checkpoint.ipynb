{
 "cells": [
  {
   "cell_type": "markdown",
   "metadata": {},
   "source": [
    "## CS/ECE/ME532 Period 11 Activity\n"
   ]
  },
  {
   "cell_type": "markdown",
   "metadata": {},
   "source": [
    "### Preambles"
   ]
  },
  {
   "cell_type": "code",
   "execution_count": 1,
   "metadata": {},
   "outputs": [],
   "source": [
    "%matplotlib notebook \n",
    "# to enable 3D plot interaction\n",
    "import numpy as np # numpy\n",
    "from pprint import pprint as pprint # pretty print\n",
    "from scipy.io import loadmat # load & save data\n",
    "from scipy.io import savemat\n",
    "import matplotlib.pyplot as plt # plot\n",
    "from mpl_toolkits import mplot3d\n",
    "np.set_printoptions(formatter={'float': lambda x: \"{0:0.2f}\".format(x)})"
   ]
  },
  {
   "cell_type": "markdown",
   "metadata": {},
   "source": [
    "K-means has some 'random' components in it. You will get different results depending on your luck.\n",
    "Even when you run an identical code, you will see some different results from your peers.\n",
    "So... we need the following line of code to start with: "
   ]
  },
  {
   "cell_type": "code",
   "execution_count": 2,
   "metadata": {},
   "outputs": [],
   "source": [
    "np.random.seed(2)"
   ]
  },
  {
   "cell_type": "markdown",
   "metadata": {},
   "source": [
    "Indeed, one may be tempted to try so many random seeds until you get a good performance!  \n",
    "\n",
    "*Don't* do that :-)...\n",
    "Some subfields in ML are suffering from \"reproduction crisis\" partially due to this: See these for more details\n",
    "https://arxiv.org/abs/1709.06560\n",
    "https://www.nature.com/articles/d41586-019-03895-5\n",
    "https://www.wired.com/story/artificial-intelligence-confronts-reproducibility-crisis/"
   ]
  },
  {
   "cell_type": "markdown",
   "metadata": {},
   "source": [
    "And see the following figure from the attached paper: \n",
    "<div>\n",
    "<img src=\"https://i.ibb.co/w7Ghdqt/Screen-Shot-2020-10-13-at-1-07-49-AM.png\" width=\"500\"/>\n",
    "</div>"
   ]
  },
  {
   "cell_type": "markdown",
   "metadata": {},
   "source": [
    "___\n",
    "___"
   ]
  },
  {
   "cell_type": "markdown",
   "metadata": {},
   "source": [
    "### 1. $K$-means and SVD for rating prediction\n",
    "We return to the movies rating problem considered previously.  The movies and ratings from your friends on a scale of 1-10 are:"
   ]
  },
  {
   "cell_type": "markdown",
   "metadata": {},
   "source": [
    "|Movie|Jake|Jennifer|Jada|Theo|Ioan|Bo|Juanita|\n",
    "|:---:|:---:|:---:|:---:|:---:|:---:|:---:|:---:|\n",
    "|Star Trek|4|7|2|8|7|4|2|\n",
    "|Pride and Prejudice|9|3|5|6|10|5|5|\n",
    "|The Martian|4|8|3|7|6|4|1|\n",
    "|Sense and Sensibility|9|2|6|5|9|5|4|\n",
    "|Star Wars: Empire Strikes|4|9|2|8|7|4|1|"
   ]
  },
  {
   "cell_type": "markdown",
   "metadata": {},
   "source": [
    "Run the following code block to create a numpy array $\\boldsymbol{X}$"
   ]
  },
  {
   "cell_type": "code",
   "execution_count": 3,
   "metadata": {},
   "outputs": [
    {
     "name": "stdout",
     "output_type": "stream",
     "text": [
      "[[4.00 7.00 2.00 8.00 7.00 4.00 2.00]\n",
      " [9.00 3.00 5.00 6.00 10.00 5.00 5.00]\n",
      " [4.00 8.00 3.00 7.00 6.00 4.00 1.00]\n",
      " [9.00 2.00 6.00 5.00 9.00 5.00 4.00]\n",
      " [4.00 9.00 2.00 8.00 7.00 4.00 1.00]]\n"
     ]
    }
   ],
   "source": [
    "X = np.array([\n",
    "    [4,7,2,8,7,4,2],\n",
    "    [9,3,5,6,10,5,5],\n",
    "    [4,8,3,7,6,4,1],\n",
    "    [9,2,6,5,9,5,4],\n",
    "    [4,9,2,8,7,4,1],\n",
    "    ], float)\n",
    "print(X)"
   ]
  },
  {
   "cell_type": "markdown",
   "metadata": {},
   "source": [
    "> `float` is necessary as the array will only hold integers otherwise"
   ]
  },
  {
   "cell_type": "markdown",
   "metadata": {},
   "source": [
    "Also, we load the $K$-mean algorithm we implemented in the last activity."
   ]
  },
  {
   "cell_type": "code",
   "execution_count": 4,
   "metadata": {},
   "outputs": [],
   "source": [
    "def dist(x, y):\n",
    "    return (x-y).T@(x-y)\n",
    "\n",
    "def kMeans(X, K, maxIters = 20):\n",
    "    X_transpose = X.transpose()\n",
    "    centroids = X_transpose[np.random.choice(X.shape[0], K)]\n",
    "    for i in range(maxIters):\n",
    "        # Cluster Assignment step\n",
    "        C = np.array([np.argmin([dist(x_i, y_k) for y_k in centroids]) for x_i in X_transpose])\n",
    "        # Update centroids step\n",
    "        for k in range(K):\n",
    "            if (C == k).any():\n",
    "                centroids[k] = X_transpose[C == k].mean(axis = 0) \n",
    "            else: # if there are no data points assigned to this certain centroid\n",
    "                centroids[k] = X_transpose[np.random.choice(len(X))] \n",
    "    return centroids.transpose() , C"
   ]
  },
  {
   "cell_type": "markdown",
   "metadata": {},
   "source": [
    "Note that `(x-y).T@(x-y)` is the squared $L^2$ norm of $x-y$: since $x$ and $y$ are 1-d numpy arrays, the .T does not actually impact the code. "
   ]
  },
  {
   "cell_type": "markdown",
   "metadata": {},
   "source": [
    "#### 1 a) Use the $K$-means algorithm to represent the columns of $\\boldsymbol{X}$ with two clusters."
   ]
  },
  {
   "cell_type": "code",
   "execution_count": null,
   "metadata": {
    "scrolled": false
   },
   "outputs": [],
   "source": [
    "centroids_2, C_2 = ??? ## Fill in the blank: call the \"kMeans\" algorithm with proper input arguments\n",
    "print('centroids = \\n', centroids_2)\n",
    "print('centroid assignment = \\n', C_2)"
   ]
  },
  {
   "cell_type": "markdown",
   "metadata": {},
   "source": [
    "#### 1 b) Express the rank-2 approximation to $\\boldsymbol{X}$ based on this cluster as $\\boldsymbol{T}\\boldsymbol{W}^T$ where the columns of $\\boldsymbol{T}$ contains the cluster centers and $\\boldsymbol{W}$ is a vector of ones and zeros. Compare the rank-2 clustering approximation to the original matrix."
   ]
  },
  {
   "cell_type": "code",
   "execution_count": null,
   "metadata": {},
   "outputs": [],
   "source": [
    "# Construct rank-2 approximation using cluster\n",
    "centroids_transposed_2 = centroids_2.transpose()\n",
    "X_hat_2 = ??? ## Fill in the blank\n",
    "print('Rank-2 Approximation = \\n', X_hat_2)"
   ]
  },
  {
   "cell_type": "markdown",
   "metadata": {},
   "source": [
    "#### 1 c) Play with the following code! You can pick three dimensions to look at by modifying `coordinates_to_plot`.  Just have fun with it."
   ]
  },
  {
   "cell_type": "code",
   "execution_count": null,
   "metadata": {
    "scrolled": false
   },
   "outputs": [],
   "source": [
    "fig = plt.figure(figsize = (10, 7))\n",
    "ax = plt.axes(projection =\"3d\")\n",
    "coordinates_to_plot = [0,1,2]\n",
    "color_array = np.array(['red', 'blue'])\n",
    "ax.scatter3D(\n",
    "            X[coordinates_to_plot[0],:], # x\n",
    "            X[coordinates_to_plot[1],:], # y\n",
    "            X[coordinates_to_plot[2],:], # y\n",
    "            color=color_array[C_2] # color depends on cluster idx\n",
    "            )\n",
    "for i in range(2):\n",
    "    ax.scatter3D(\n",
    "            centroids_2[coordinates_to_plot[0],i], # x\n",
    "            centroids_2[coordinates_to_plot[1],i], # y\n",
    "            centroids_2[coordinates_to_plot[2],i], # y\n",
    "            marker='*', # star instead of circle\n",
    "            s=300, # size\n",
    "            color=color_array[i] # color \n",
    "            )\n",
    "\n",
    "ax.set_xlabel('Dim %d'%coordinates_to_plot[0])\n",
    "ax.set_ylabel('Dim %d'%coordinates_to_plot[1])\n",
    "ax.set_zlabel('Dim %d'%coordinates_to_plot[2])\n"
   ]
  },
  {
   "cell_type": "markdown",
   "metadata": {},
   "source": [
    "#### 1 d) Repeat a)--c) with $K=3$."
   ]
  },
  {
   "cell_type": "code",
   "execution_count": null,
   "metadata": {
    "scrolled": false
   },
   "outputs": [],
   "source": [
    "centroids_3, C_3 = ??? ## Fill in the blank\n",
    "print('centroids = \\n', centroids_3)\n",
    "print('centroid assignment = \\n', C_3)"
   ]
  },
  {
   "cell_type": "code",
   "execution_count": null,
   "metadata": {},
   "outputs": [],
   "source": [
    "# Construct rank-3 approximation using cluster\n",
    "centroids_transposed_3 = centroids_3.transpose()\n",
    "X_hat_3 = ??? ## Fill in the blank\n",
    "print('Rank-3 Approximation = \\n', X_hat_3)"
   ]
  },
  {
   "cell_type": "code",
   "execution_count": null,
   "metadata": {
    "scrolled": false
   },
   "outputs": [],
   "source": [
    "fig = plt.figure(figsize = (10, 7))\n",
    "ax = plt.axes(projection =\"3d\")\n",
    "coordinates_to_plot = [0,1,2]\n",
    "color_array = np.array(['red', 'blue', 'green'])\n",
    "ax.scatter3D(\n",
    "            X[coordinates_to_plot[0],:], # x\n",
    "            X[coordinates_to_plot[1],:], # y\n",
    "            X[coordinates_to_plot[2],:], # y\n",
    "            color=color_array[C_3] # color depends on cluster idx\n",
    "            )\n",
    "for i in range(3):\n",
    "    ax.scatter3D(\n",
    "            centroids_3[coordinates_to_plot[0],i], # x\n",
    "            centroids_3[coordinates_to_plot[1],i], # y\n",
    "            centroids_3[coordinates_to_plot[2],i], # y\n",
    "            marker='*', # star instead of circle\n",
    "            s=300, # size\n",
    "            color=color_array[i] # color \n",
    "            )\n",
    "\n",
    "ax.set_xlabel('Dim %d'%coordinates_to_plot[0])\n",
    "ax.set_ylabel('Dim %d'%coordinates_to_plot[1])\n",
    "ax.set_zlabel('Dim %d'%coordinates_to_plot[2])\n"
   ]
  },
  {
   "cell_type": "markdown",
   "metadata": {},
   "source": [
    "#### 1 e) SVD can be also used to find $\\boldsymbol{T}$ and $\\boldsymbol{W}$ such that $\\boldsymbol{X} \\approx \\boldsymbol{T} \\boldsymbol{W}$.   Assume that you are given the SVD of $\\boldsymbol{X}$, i.e., $\\boldsymbol{X} = \\boldsymbol{U}\\boldsymbol{S}\\boldsymbol{V}^T$.   Find SVD-based $\\boldsymbol{T}$ and $\\boldsymbol{W}$ as a function of  $\\boldsymbol{U}, \\boldsymbol{S}, \\boldsymbol{V}$ (In an equation form, not numbers.)  Recall that $\\boldsymbol{T}$ is a 5-by-$r$ matrix with orthonormal columns."
   ]
  },
  {
   "cell_type": "markdown",
   "metadata": {},
   "source": [
    "Your answer goes here:"
   ]
  },
  {
   "cell_type": "markdown",
   "metadata": {},
   "source": [
    "#### 1 f) Find $\\boldsymbol{T}, \\boldsymbol{W}$ and the rank-$r$ approximation to $\\boldsymbol{X}$ for $r=2$.  What aspects of the ratings does the first taste vector capture?  What about the second taste vector?"
   ]
  },
  {
   "cell_type": "code",
   "execution_count": null,
   "metadata": {},
   "outputs": [],
   "source": [
    "U, s, VT = np.linalg.svd(X, full_matrices=True)\n",
    "S_matrix = np.zeros_like(X) \n",
    "np.fill_diagonal(S_matrix, s)\n",
    "\n",
    "## Fill in the blank using U, S_matrix, and VT\n",
    "T = ???\n",
    "W = ???\n",
    "\n",
    "for r in range(0,2):\n",
    "    T_r = T[:,0:r+1] ## Choose the first r columns of T\n",
    "    W_r = W[0:r+1,:] ## Choose the first r rows of W\n",
    "    print(T_r)\n",
    "    print(W_r)"
   ]
  },
  {
   "cell_type": "markdown",
   "metadata": {},
   "source": [
    "#### 1 g) The following code visualizes the rank-$r$ approximation for an increasing value of $r$.  When does the approximation become exact?  Why?"
   ]
  },
  {
   "cell_type": "code",
   "execution_count": null,
   "metadata": {
    "scrolled": false
   },
   "outputs": [],
   "source": [
    "for r in range(0,7):\n",
    "    T_r = T[:,0:r+1] ## Choose the first r columns of T\n",
    "    W_r = W[0:r+1,:] ## Choose the first r rows of W\n",
    "    X_rank_r_approx = T_r@W_r\n",
    "    fig, ax = plt.subplots(1,3,figsize=(5.5, 5))\n",
    "    for (j,i),label in np.ndenumerate(X):\n",
    "        ax[0].text(i,j,np.round(label,1),ha='center',va='center', size=5)\n",
    "    im = ax[0].imshow(X, vmin=-10, vmax=10, interpolation='none', cmap='gray')\n",
    "    for (j,i),label in np.ndenumerate(X_rank_r_approx):\n",
    "        ax[1].text(i,j,np.round(label,1),ha='center',va='center', size=5)\n",
    "    im = ax[1].imshow(X_rank_r_approx, vmin=-10, vmax=10, interpolation='none', cmap='gray')\n",
    "    for (j,i),label in np.ndenumerate(X-X_rank_r_approx):\n",
    "        ax[2].text(i,j,np.round(label,1),ha='center',va='center', size=5)\n",
    "    im = ax[2].imshow(X-X_rank_r_approx, vmin=-10, vmax=10, interpolation='none', cmap='gray')\n",
    "\n",
    "    cbar_ax = fig.add_axes([1.05, 0.15, 0.05, 0.7])\n",
    "    fig.colorbar(im, cax=cbar_ax)\n",
    "    ax[1].set_title(\"rank %d approximation\" % (r+1))"
   ]
  },
  {
   "cell_type": "markdown",
   "metadata": {},
   "source": [
    "#### 1 g) Your friend Jon rates Star Trek 6 and Pride and Prejudice 4.  Assume a two-column taste matrix $\\boldsymbol{T}$.  Formulate a system of equations that can find Jon's weight vector.  Write down the least square solution."
   ]
  },
  {
   "cell_type": "markdown",
   "metadata": {},
   "source": [
    "Your answer goes here:"
   ]
  },
  {
   "cell_type": "markdown",
   "metadata": {},
   "source": [
    "#### 1 h) Using this weight vector, how can we predict Jon's ratings for all five movies, including the remaining three movies?"
   ]
  },
  {
   "cell_type": "markdown",
   "metadata": {},
   "source": [
    "Your answer goes here:"
   ]
  },
  {
   "cell_type": "markdown",
   "metadata": {},
   "source": [
    "#### 1 i) Predict Jon's ratings for all the five movies with different choices of the taste matrix.\n",
    "- Choice 1: $T$ is the two centroids of the $K$-means result with $K=2$\n",
    "- Choice 2: $T$ is the first two centroids of the $K$-means result with $K=3$\n",
    "- Choice 3: $T$ is the first two SVD-based taste vectors"
   ]
  },
  {
   "cell_type": "code",
   "execution_count": null,
   "metadata": {},
   "outputs": [],
   "source": [
    "y = np.array([[6],[4]])\n",
    "\n",
    "## Choice 1: K-means (K=2) based taste matrix T\n",
    "T = ???[:,0:2] # fill in the blank\n",
    "T_12 = T[0:2,:]\n",
    "print(T@np.linalg.inv(T_12.T@T_12)@T_12.T@y)\n",
    "\n",
    "## Choice 2: K-means (K=3) based taste matrix T\n",
    "T = ???[:,0:2] # fill in the blank\n",
    "T_12 = T[0:2,:]\n",
    "print(T@np.linalg.inv(T_12.T@T_12)@T_12.T@y)\n",
    "\n",
    "## Choice 3: SVD based taste matrix T\n",
    "T = ???[:,0:2] # fill in the blank\n",
    "T_12 = T[0:2,:]\n",
    "print(T@np.linalg.inv(T_12.T@T_12)@T_12.T@y)"
   ]
  }
 ],
 "metadata": {
  "kernelspec": {
   "display_name": "Python 3",
   "language": "python",
   "name": "python3"
  },
  "language_info": {
   "codemirror_mode": {
    "name": "ipython",
    "version": 3
   },
   "file_extension": ".py",
   "mimetype": "text/x-python",
   "name": "python",
   "nbconvert_exporter": "python",
   "pygments_lexer": "ipython3",
   "version": "3.8.2"
  }
 },
 "nbformat": 4,
 "nbformat_minor": 2
}
