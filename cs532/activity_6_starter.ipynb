{
 "cells": [
  {
   "cell_type": "code",
   "execution_count": 19,
   "metadata": {},
   "outputs": [
    {
     "name": "stdout",
     "output_type": "stream",
     "text": [
      "[[ 4.25]\n",
      " [17.5 ]\n",
      " [ 3.75]]\n",
      "[]\n"
     ]
    },
    {
     "name": "stderr",
     "output_type": "stream",
     "text": [
      "<ipython-input-19-021c92eacac1>:15: FutureWarning: `rcond` parameter will change to the default of machine precision times ``max(M, N)`` where M and N are the input matrix dimensions.\n",
      "To use the future default and silence this warning we advise to pass `rcond=None`, to keep using the old, explicitly pass `rcond=-1`.\n",
      "  x, residuals, rank, s = np.linalg.lstsq(A,b)\n"
     ]
    }
   ],
   "source": [
    "import numpy as np\n",
    "A = np.array([[25,0,1],[20,1,2],[40,1,6]])\n",
    "b = np.array([[110],[110],[210]])\n",
    "\n",
    "# To see rank, use: \n",
    "# np.linalg.matrix_rank(A)\n",
    "\n",
    "# To invert a matrix, use:\n",
    "# np.linalg.inv(A)\n",
    "\n",
    "# To multiply matrices in Python 3, use:\n",
    "# A@B\n",
    "\n",
    "# x=solve(A,b)\n",
    "x, residuals, rank, s = np.linalg.lstsq(A,b)\n",
    "print(x)\n",
    "print(residuals+rank)"
   ]
  },
  {
   "cell_type": "code",
   "execution_count": 25,
   "metadata": {},
   "outputs": [
    {
     "name": "stdout",
     "output_type": "stream",
     "text": [
      "4\n",
      "[[2.66666667]\n",
      " [1.33333333]\n",
      " [1.33333333]\n",
      " [9.        ]\n",
      " [4.        ]]\n",
      "[]\n"
     ]
    },
    {
     "name": "stderr",
     "output_type": "stream",
     "text": [
      "<ipython-input-25-bb542a699560>:12: FutureWarning: `rcond` parameter will change to the default of machine precision times ``max(M, N)`` where M and N are the input matrix dimensions.\n",
      "To use the future default and silence this warning we advise to pass `rcond=None`, to keep using the old, explicitly pass `rcond=-1`.\n",
      "  x, residuals, rank, s = np.linalg.lstsq(A,b)\n"
     ]
    }
   ],
   "source": [
    "import numpy as np\n",
    "from scipy.linalg import solve\n",
    "\n",
    "A = np.array([[20,12,8,1,2],[40,30,10,1,6], [30,15,15,0,3], [35,20,15,2,4]])\n",
    "b = np.array([[97],[193],[132],[174]])\n",
    "\n",
    "print(np.linalg.matrix_rank(A))\n",
    "\n",
    "# x=solve(A,b)\n",
    "# print(x)\n",
    "# Note: you can use np.hstack() to concatinate vectors, for example np.hstack((A,b))\n",
    "x, residuals, rank, s = np.linalg.lstsq(A,b)\n",
    "print(x)\n",
    "print(residuals)\n",
    "# Note: you can select all the columns, except the first of a matrix A as:  A[:,1:]"
   ]
  },
  {
   "cell_type": "code",
   "execution_count": 27,
   "metadata": {},
   "outputs": [
    {
     "name": "stdout",
     "output_type": "stream",
     "text": [
      "[[ 94.83333333]\n",
      " [108.33333333]\n",
      " [ 94.83333333]]\n",
      "[]\n"
     ]
    },
    {
     "name": "stderr",
     "output_type": "stream",
     "text": [
      "<ipython-input-27-3f8568d78e5a>:12: FutureWarning: `rcond` parameter will change to the default of machine precision times ``max(M, N)`` where M and N are the input matrix dimensions.\n",
      "To use the future default and silence this warning we advise to pass `rcond=None`, to keep using the old, explicitly pass `rcond=-1`.\n",
      "  x, residuals, rank, s = np.linalg.lstsq(res,b)\n"
     ]
    }
   ],
   "source": [
    "import numpy as np \n",
    "  \n",
    "# input two matrices \n",
    "mat1 = ([0.5,0.5],[0.5,-0.5],[0.5,-0.5],[0.5,0.5]) \n",
    "mat2 = ([1,1,1],[1,-2,1]) \n",
    "\n",
    "\n",
    "# res = np.dot(mat1,mat2) \n",
    "# print(res)\n",
    "# print(np.linalg.matrix_rank(res))\n",
    "\n",
    "x, residuals, rank, s = np.linalg.lstsq(res,b)\n",
    "print(x)\n",
    "print(residuals)"
   ]
  },
  {
   "cell_type": "code",
   "execution_count": 22,
   "metadata": {},
   "outputs": [
    {
     "name": "stdout",
     "output_type": "stream",
     "text": [
      "[[ 0.33333333]\n",
      " [-0.33333333]]\n",
      "[5.33333333]\n"
     ]
    },
    {
     "name": "stderr",
     "output_type": "stream",
     "text": [
      "<ipython-input-22-cc775bc5d10c>:15: FutureWarning: `rcond` parameter will change to the default of machine precision times ``max(M, N)`` where M and N are the input matrix dimensions.\n",
      "To use the future default and silence this warning we advise to pass `rcond=None`, to keep using the old, explicitly pass `rcond=-1`.\n",
      "  x, residuals, rank, s = np.linalg.lstsq(A,b)\n"
     ]
    }
   ],
   "source": [
    "import numpy as np\n",
    "A = np.array([[1,0],[1,-1],[0,1]])\n",
    "b = np.array([[-1],[2],[1]])\n",
    "\n",
    "# To see rank, use: \n",
    "# np.linalg.matrix_rank(A)\n",
    "\n",
    "# To invert a matrix, use:\n",
    "# np.linalg.inv(A)\n",
    "\n",
    "# To multiply matrices in Python 3, use:\n",
    "# A@B\n",
    "\n",
    "# x=solve(A,b)\n",
    "x, residuals, rank, s = np.linalg.lstsq(A,b)\n",
    "print(x)\n",
    "print(residuals)\n",
    "# print(residuals+rank)"
   ]
  },
  {
   "cell_type": "code",
   "execution_count": null,
   "metadata": {},
   "outputs": [],
   "source": []
  }
 ],
 "metadata": {
  "kernelspec": {
   "display_name": "Python 3",
   "language": "python",
   "name": "python3"
  },
  "language_info": {
   "codemirror_mode": {
    "name": "ipython",
    "version": 3
   },
   "file_extension": ".py",
   "mimetype": "text/x-python",
   "name": "python",
   "nbconvert_exporter": "python",
   "pygments_lexer": "ipython3",
   "version": "3.8.2"
  }
 },
 "nbformat": 4,
 "nbformat_minor": 2
}
