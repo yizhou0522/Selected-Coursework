{
 "cells": [
  {
   "cell_type": "code",
   "execution_count": null,
   "metadata": {},
   "outputs": [],
   "source": [
    "import numpy as np\n",
    "import matplotlib.pyplot as plt \n",
    "import pickle\n",
    "\n",
    "pkl_file = open('classifier_data.pkl', 'rb')\n",
    "x_train, y_train = pickle.load(pkl_file)\n",
    "\n",
    "n_train = np.size(y_train)\n",
    "\n",
    "plt.scatter(x_train[:,0],x_train[:,1], c=y_train[:,0])\n",
    "plt.title('training data')\n",
    "plt.show()"
   ]
  }
 ],
 "metadata": {
  "kernelspec": {
   "display_name": "Python 3",
   "language": "python",
   "name": "python3"
  },
  "language_info": {
   "codemirror_mode": {
    "name": "ipython",
    "version": 3
   },
   "file_extension": ".py",
   "mimetype": "text/x-python",
   "name": "python",
   "nbconvert_exporter": "python",
   "pygments_lexer": "ipython3",
   "version": "3.7.4"
  }
 },
 "nbformat": 4,
 "nbformat_minor": 2
}
